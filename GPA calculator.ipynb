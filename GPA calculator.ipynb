{
 "cells": [
  {
   "cell_type": "code",
   "execution_count": 1,
   "metadata": {},
   "outputs": [
    {
     "name": "stdout",
     "output_type": "stream",
     "text": [
      "Your Grade Point Average = 4.67\n"
     ]
    }
   ],
   "source": [
    "from IPython.display import clear_output\n",
    "\n",
    "name = str(input('Enter your name: '))\n",
    "clear_output()\n",
    "print(f'Welcome {name}!!!')\n",
    "no = int(input('Enter the total number of courses you offer: '))+1\n",
    "clear_output()\n",
    "course_code = [ ]\n",
    "course_load = [ ]\n",
    "course_grade = [ ]\n",
    "n = 1\n",
    "while n < no:\n",
    "    cc = str(input(f'Enter course{n} code: '))\n",
    "    clear_output()\n",
    "    course_code.append(cc)\n",
    "    cl = int(input(f'Enter course{n} unit: '))\n",
    "    clear_output()\n",
    "    course_load.append(cl)\n",
    "    gr = str(input(f'Enter course{n} grade: ')).upper()\n",
    "    clear_output()\n",
    "    course_grade.append(gr)\n",
    "    n += 1\n",
    "    if n == no:\n",
    "        break\n",
    "course_details = {}\n",
    "for key in course_code:\n",
    "    for value in course_load:\n",
    "        course_details[key] = value\n",
    "        break\n",
    "#print(course_details)\n",
    "\n",
    "Grade_unit = {'A': 5, 'B': 4, 'C': 3, 'D': 2, 'E': 1, 'F':0}\n",
    "\n",
    "grade_unit = [ ]\n",
    "for grade in course_grade:\n",
    "    grade_unit.append(Grade_unit[grade])\n",
    "\n",
    "\n",
    "gpa_cal = list(map(lambda x, y : x*y, grade_unit, course_load))\n",
    "\n",
    "gpa = round(sum(gpa_cal)/sum(course_load), 2)\n",
    "\n",
    "print(f'Your Grade Point Average = {gpa}')\n",
    "\n",
    "#print(corresponding_units)\n"
   ]
  },
  {
   "cell_type": "code",
   "execution_count": null,
   "metadata": {},
   "outputs": [],
   "source": []
  }
 ],
 "metadata": {
  "kernelspec": {
   "display_name": "Python 3",
   "language": "python",
   "name": "python3"
  },
  "language_info": {
   "codemirror_mode": {
    "name": "ipython",
    "version": 3
   },
   "file_extension": ".py",
   "mimetype": "text/x-python",
   "name": "python",
   "nbconvert_exporter": "python",
   "pygments_lexer": "ipython3",
   "version": "3.7.3"
  }
 },
 "nbformat": 4,
 "nbformat_minor": 2
}
